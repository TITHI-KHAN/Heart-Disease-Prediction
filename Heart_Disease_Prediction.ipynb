{
  "nbformat": 4,
  "nbformat_minor": 0,
  "metadata": {
    "colab": {
      "provenance": []
    },
    "kernelspec": {
      "name": "python3",
      "display_name": "Python 3"
    },
    "language_info": {
      "name": "python"
    }
  },
  "cells": [
    {
      "cell_type": "markdown",
      "source": [
        "**Step 1: Load and Preprocess the Data**"
      ],
      "metadata": {
        "id": "jPl-Swwumybs"
      }
    },
    {
      "cell_type": "code",
      "source": [
        "import pandas as pd\n",
        "\n",
        "# Load the dataset\n",
        "data = pd.read_csv('Heart Disease.csv')  # Replace 'your_dataset.csv' with the actual file path\n",
        "\n",
        "# Display basic information about the dataset\n",
        "print(data.info())\n"
      ],
      "metadata": {
        "colab": {
          "base_uri": "https://localhost:8080/"
        },
        "id": "ws44Q6xPm0Js",
        "outputId": "e31bc844-548a-48ea-f79d-434c3364986f"
      },
      "execution_count": 1,
      "outputs": [
        {
          "output_type": "stream",
          "name": "stdout",
          "text": [
            "<class 'pandas.core.frame.DataFrame'>\n",
            "RangeIndex: 129711 entries, 0 to 129710\n",
            "Data columns (total 18 columns):\n",
            " #   Column            Non-Null Count   Dtype  \n",
            "---  ------            --------------   -----  \n",
            " 0   HeartDisease      129711 non-null  object \n",
            " 1   BMI               129711 non-null  float64\n",
            " 2   Smoking           129711 non-null  object \n",
            " 3   AlcoholDrinking   129711 non-null  object \n",
            " 4   Stroke            129711 non-null  object \n",
            " 5   PhysicalHealth    129711 non-null  int64  \n",
            " 6   MentalHealth      129711 non-null  int64  \n",
            " 7   DiffWalking       129711 non-null  object \n",
            " 8   Sex               129711 non-null  object \n",
            " 9   AgeCategory       129711 non-null  object \n",
            " 10  Race              129711 non-null  object \n",
            " 11  Diabetic          129710 non-null  object \n",
            " 12  PhysicalActivity  129710 non-null  object \n",
            " 13  GenHealth         129710 non-null  object \n",
            " 14  SleepTime         129710 non-null  float64\n",
            " 15  Asthma            129710 non-null  object \n",
            " 16  KidneyDisease     129710 non-null  object \n",
            " 17  SkinCancer        129710 non-null  object \n",
            "dtypes: float64(2), int64(2), object(14)\n",
            "memory usage: 17.8+ MB\n",
            "None\n"
          ]
        }
      ]
    },
    {
      "cell_type": "markdown",
      "source": [
        "**Step 2: Data Cleaning and Transformation**"
      ],
      "metadata": {
        "id": "DDvdfA5mmx1m"
      }
    },
    {
      "cell_type": "code",
      "source": [
        "from sklearn.preprocessing import LabelEncoder\n",
        "\n",
        "# Convert categorical variables to numerical using label encoding\n",
        "label_encoder = LabelEncoder()\n",
        "\n",
        "categorical_columns = ['Smoking', 'AlcoholDrinking', 'Stroke', 'DiffWalking', 'Diabetic', 'PhysicalActivity', 'GenHealth', 'Asthma', 'KidneyDisease', 'SkinCancer']\n",
        "for col in categorical_columns:\n",
        "    data[col] = label_encoder.fit_transform(data[col])\n",
        "\n",
        "# Convert categorical variables to numerical using one-hot encoding\n",
        "data = pd.get_dummies(data, columns=['Sex', 'AgeCategory', 'Race'], drop_first=True)\n",
        "\n",
        "# Convert 'HeartDisease' column to binary (1: Yes, 0: No)\n",
        "data['HeartDisease'] = data['HeartDisease'].apply(lambda x: 1 if x == 'Yes' else 0)\n",
        "\n",
        "# Check for missing values and handle them if necessary\n",
        "print(data.isnull().sum())\n",
        "\n",
        "# Normalize numerical features\n",
        "from sklearn.preprocessing import StandardScaler\n",
        "scaler = StandardScaler()\n",
        "numerical_columns = ['BMI', 'PhysicalHealth', 'MentalHealth', 'SleepTime']\n",
        "data[numerical_columns] = scaler.fit_transform(data[numerical_columns])\n"
      ],
      "metadata": {
        "colab": {
          "base_uri": "https://localhost:8080/"
        },
        "id": "tn9dg0y_m4uM",
        "outputId": "9d56d455-4ccb-4d9f-8490-b99ba713312b"
      },
      "execution_count": 2,
      "outputs": [
        {
          "output_type": "stream",
          "name": "stdout",
          "text": [
            "HeartDisease               0\n",
            "BMI                        0\n",
            "Smoking                    0\n",
            "AlcoholDrinking            0\n",
            "Stroke                     0\n",
            "PhysicalHealth             0\n",
            "MentalHealth               0\n",
            "DiffWalking                0\n",
            "Diabetic                   0\n",
            "PhysicalActivity           0\n",
            "GenHealth                  0\n",
            "SleepTime                  1\n",
            "Asthma                     0\n",
            "KidneyDisease              0\n",
            "SkinCancer                 0\n",
            "Sex_Male                   0\n",
            "AgeCategory_25-29          0\n",
            "AgeCategory_30-34          0\n",
            "AgeCategory_35-39          0\n",
            "AgeCategory_40-44          0\n",
            "AgeCategory_45-49          0\n",
            "AgeCategory_50-54          0\n",
            "AgeCategory_55-59          0\n",
            "AgeCategory_60-64          0\n",
            "AgeCategory_65-69          0\n",
            "AgeCategory_70-74          0\n",
            "AgeCategory_75-79          0\n",
            "AgeCategory_80 or older    0\n",
            "Race_Asian                 0\n",
            "Race_Black                 0\n",
            "Race_Hispanic              0\n",
            "Race_Other                 0\n",
            "Race_White                 0\n",
            "dtype: int64\n"
          ]
        }
      ]
    },
    {
      "cell_type": "markdown",
      "source": [
        "**Step 3: Balance the Classes (Fix Class Imbalance)**"
      ],
      "metadata": {
        "id": "WWsTxCm6m6Uj"
      }
    },
    {
      "cell_type": "code",
      "source": [
        "from imblearn.under_sampling import RandomUnderSampler\n",
        "\n",
        "# Separate features and target variable\n",
        "X = data.drop(columns=['HeartDisease'])\n",
        "y = data['HeartDisease']\n",
        "\n",
        "# Apply random undersampling to balance the classes\n",
        "rus = RandomUnderSampler(random_state=42)\n",
        "X_resampled, y_resampled = rus.fit_resample(X, y)\n"
      ],
      "metadata": {
        "id": "Pd-EFC0Xm72E"
      },
      "execution_count": 3,
      "outputs": []
    },
    {
      "cell_type": "markdown",
      "source": [
        "**Step 4: Feature Importance Analysis using Random Forest**"
      ],
      "metadata": {
        "id": "pTohSOsem9Uc"
      }
    },
    {
      "cell_type": "code",
      "source": [
        "from sklearn.ensemble import RandomForestClassifier\n",
        "import matplotlib.pyplot as plt\n",
        "\n",
        "# Train a Random Forest classifier\n",
        "rf_classifier = RandomForestClassifier(random_state=42)\n",
        "rf_classifier.fit(X_resampled, y_resampled)\n",
        "\n",
        "# Feature importances\n",
        "feature_importances = pd.Series(rf_classifier.feature_importances_, index=X.columns)\n",
        "\n",
        "# Plot feature importances\n",
        "plt.figure(figsize=(10, 6))\n",
        "feature_importances.sort_values(ascending=False).plot(kind='bar')\n",
        "plt.title('Feature Importances')\n",
        "plt.show()\n"
      ],
      "metadata": {
        "colab": {
          "base_uri": "https://localhost:8080/",
          "height": 704
        },
        "id": "VaM121etnAfG",
        "outputId": "039b4e13-5eb2-4bf1-b1cf-114bef9f55d7"
      },
      "execution_count": 4,
      "outputs": [
        {
          "output_type": "display_data",
          "data": {
            "text/plain": [
              "<Figure size 1000x600 with 1 Axes>"
            ],
            "image/png": "[encoded data removed]"
          },
          "metadata": {}
        }
      ]
    },
    {
      "cell_type": "code",
      "source": [
        "# Train a Random Forest classifier\n",
        "rf_classifier = RandomForestClassifier(random_state=42)\n",
        "rf_classifier.fit(X_resampled, y_resampled)\n",
        "\n",
        "# Get feature importances\n",
        "feature_importances = rf_classifier.feature_importances_\n",
        "\n",
        "# Display feature importances for each feature\n",
        "for feature_name, importance in zip(X.columns, feature_importances):\n",
        "    print(f\"{feature_name}: {importance}\")\n"
      ],
      "metadata": {
        "colab": {
          "base_uri": "https://localhost:8080/"
        },
        "id": "youi_mgun6V0",
        "outputId": "8e2297df-76b0-4939-f43d-39522654f566"
      },
      "execution_count": 5,
      "outputs": [
        {
          "output_type": "stream",
          "name": "stdout",
          "text": [
            "BMI: 0.21794230392927408\n",
            "Smoking: 0.028206832423141908\n",
            "AlcoholDrinking: 0.01051500649328459\n",
            "Stroke: 0.029658397252749536\n",
            "PhysicalHealth: 0.0708840848331604\n",
            "MentalHealth: 0.05620240593421462\n",
            "DiffWalking: 0.045546144125595614\n",
            "Diabetic: 0.04712121815721283\n",
            "PhysicalActivity: 0.023194048829189566\n",
            "GenHealth: 0.09143372330314053\n",
            "SleepTime: 0.08777390646160795\n",
            "Asthma: 0.018429275979295535\n",
            "KidneyDisease: 0.02131746191730372\n",
            "SkinCancer: 0.018270214116105122\n",
            "Sex_Male: 0.0299726712071682\n",
            "AgeCategory_25-29: 0.009493819134744905\n",
            "AgeCategory_30-34: 0.008897124059134499\n",
            "AgeCategory_35-39: 0.010193964975065613\n",
            "AgeCategory_40-44: 0.007782132598630526\n",
            "AgeCategory_45-49: 0.008009026850157459\n",
            "AgeCategory_50-54: 0.008316182032595818\n",
            "AgeCategory_55-59: 0.010332505268676753\n",
            "AgeCategory_60-64: 0.012388163855780492\n",
            "AgeCategory_65-69: 0.016188562897786987\n",
            "AgeCategory_70-74: 0.01922547567449833\n",
            "AgeCategory_75-79: 0.019824757679051806\n",
            "AgeCategory_80 or older: 0.030907560607168344\n",
            "Race_Asian: 0.004235363403380566\n",
            "Race_Black: 0.00941432298619302\n",
            "Race_Hispanic: 0.007309060453429955\n",
            "Race_Other: 0.00601225345622855\n",
            "Race_White: 0.015002029105032295\n"
          ]
        }
      ]
    },
    {
      "cell_type": "markdown",
      "source": [
        "**FEATURE ANALYSIS:**\n",
        "\n",
        "1.   BMI\n",
        "2.   PhysicalHealth\n",
        "3.   GenHealth\n",
        "4.   SleepTime\n",
        "5.   MentalHealth\n",
        "6.   AgeCategory_80 or older\n",
        "7.   DiffWalking\n",
        "8.   AgeCategory_70-74\n",
        "9.   AgeCategory_75-79\n",
        "10.   AgeCategory_60-64\n",
        "11.   Stroke\n",
        "12.   Diabetic\n",
        "\n",
        "\n",
        "These features have relatively higher importance values and are likely to have a more significant effect on the likelihood of heart disease based on the Random Forest analysis.\n"
      ],
      "metadata": {
        "id": "HkiPw0-LoJzN"
      }
    },
    {
      "cell_type": "markdown",
      "source": [
        "**Logistic Regression, SVM Classifier, K Neighbors Classifier, XGB Classifier, AdaBoost Classifier, Random Forest Classifier, Decision Tree Classifier, MLP Classifier**"
      ],
      "metadata": {
        "id": "QdK0tJU7pSEn"
      }
    },
    {
      "cell_type": "code",
      "source": [
        "import warnings\n",
        "warnings.filterwarnings(\"ignore\")\n",
        "\n",
        "from sklearn.model_selection import train_test_split\n",
        "from sklearn.linear_model import LogisticRegression\n",
        "from sklearn.svm import SVC\n",
        "from sklearn.neighbors import KNeighborsClassifier\n",
        "from xgboost import XGBClassifier\n",
        "from sklearn.ensemble import AdaBoostClassifier, RandomForestClassifier\n",
        "from sklearn.tree import DecisionTreeClassifier\n",
        "from sklearn.neural_network import MLPClassifier\n",
        "from sklearn.metrics import classification_report\n",
        "\n",
        "# Split the data into training and testing sets\n",
        "X_train, X_test, y_train, y_test = train_test_split(X_resampled, y_resampled, test_size=0.2, random_state=42)\n",
        "\n",
        "# Initialize classifiers\n",
        "classifiers = {\n",
        "    'Logistic Regression': LogisticRegression(),\n",
        "    'SVM': SVC(),\n",
        "    'k-Nearest Neighbors': KNeighborsClassifier(),\n",
        "    'XGBoost': XGBClassifier(),\n",
        "    'AdaBoost': AdaBoostClassifier(),\n",
        "    'Decision Tree': DecisionTreeClassifier(),\n",
        "    'Random Forest': RandomForestClassifier(),\n",
        "    'ANN': MLPClassifier(hidden_layer_sizes=(64, 32), max_iter=1000, random_state=42)\n",
        "}\n",
        "\n",
        "# Train and evaluate each classifier\n",
        "for name, clf in classifiers.items():\n",
        "    clf.fit(X_train, y_train)\n",
        "    y_pred = clf.predict(X_test)\n",
        "\n",
        "    accuracy = clf.score(X_test, y_test)\n",
        "    report = classification_report(y_test, y_pred)\n",
        "\n",
        "    print(f\"Classifier: {name}\")\n",
        "    print(f\"Accuracy: {accuracy:.4f}\")\n",
        "    print(f\"Classification Report:\\n{report}\\n{'='*50}\\n\") #0: No Heart Disease, 1: Heart Disease\n"
      ],
      "metadata": {
        "colab": {
          "base_uri": "https://localhost:8080/"
        },
        "id": "9O_keLzzpSNf",
        "outputId": "79af3b1d-f498-40ec-c4a7-b582cda21a14"
      },
      "execution_count": 6,
      "outputs": [
        {
          "output_type": "stream",
          "name": "stdout",
          "text": [
            "Classifier: Logistic Regression\n",
            "Accuracy: 0.7378\n",
            "Classification Report:\n",
            "              precision    recall  f1-score   support\n",
            "\n",
            "           0       0.75      0.73      0.74      2282\n",
            "           1       0.73      0.75      0.74      2180\n",
            "\n",
            "    accuracy                           0.74      4462\n",
            "   macro avg       0.74      0.74      0.74      4462\n",
            "weighted avg       0.74      0.74      0.74      4462\n",
            "\n",
            "==================================================\n",
            "\n",
            "Classifier: SVM\n",
            "Accuracy: 0.7497\n",
            "Classification Report:\n",
            "              precision    recall  f1-score   support\n",
            "\n",
            "           0       0.80      0.68      0.74      2282\n",
            "           1       0.71      0.82      0.76      2180\n",
            "\n",
            "    accuracy                           0.75      4462\n",
            "   macro avg       0.75      0.75      0.75      4462\n",
            "weighted avg       0.76      0.75      0.75      4462\n",
            "\n",
            "==================================================\n",
            "\n",
            "Classifier: k-Nearest Neighbors\n",
            "Accuracy: 0.7192\n",
            "Classification Report:\n",
            "              precision    recall  f1-score   support\n",
            "\n",
            "           0       0.73      0.71      0.72      2282\n",
            "           1       0.71      0.72      0.72      2180\n",
            "\n",
            "    accuracy                           0.72      4462\n",
            "   macro avg       0.72      0.72      0.72      4462\n",
            "weighted avg       0.72      0.72      0.72      4462\n",
            "\n",
            "==================================================\n",
            "\n",
            "Classifier: XGBoost\n",
            "Accuracy: 0.7450\n",
            "Classification Report:\n",
            "              precision    recall  f1-score   support\n",
            "\n",
            "           0       0.77      0.72      0.74      2282\n",
            "           1       0.72      0.77      0.75      2180\n",
            "\n",
            "    accuracy                           0.74      4462\n",
            "   macro avg       0.75      0.75      0.74      4462\n",
            "weighted avg       0.75      0.74      0.74      4462\n",
            "\n",
            "==================================================\n",
            "\n",
            "Classifier: AdaBoost\n",
            "Accuracy: 0.7532\n",
            "Classification Report:\n",
            "              precision    recall  f1-score   support\n",
            "\n",
            "           0       0.76      0.75      0.76      2282\n",
            "           1       0.74      0.76      0.75      2180\n",
            "\n",
            "    accuracy                           0.75      4462\n",
            "   macro avg       0.75      0.75      0.75      4462\n",
            "weighted avg       0.75      0.75      0.75      4462\n",
            "\n",
            "==================================================\n",
            "\n",
            "Classifier: Decision Tree\n",
            "Accuracy: 0.6634\n",
            "Classification Report:\n",
            "              precision    recall  f1-score   support\n",
            "\n",
            "           0       0.67      0.66      0.67      2282\n",
            "           1       0.65      0.66      0.66      2180\n",
            "\n",
            "    accuracy                           0.66      4462\n",
            "   macro avg       0.66      0.66      0.66      4462\n",
            "weighted avg       0.66      0.66      0.66      4462\n",
            "\n",
            "==================================================\n",
            "\n",
            "Classifier: Random Forest\n",
            "Accuracy: 0.7353\n",
            "Classification Report:\n",
            "              precision    recall  f1-score   support\n",
            "\n",
            "           0       0.76      0.71      0.73      2282\n",
            "           1       0.71      0.77      0.74      2180\n",
            "\n",
            "    accuracy                           0.74      4462\n",
            "   macro avg       0.74      0.74      0.74      4462\n",
            "weighted avg       0.74      0.74      0.74      4462\n",
            "\n",
            "==================================================\n",
            "\n",
            "Classifier: ANN\n",
            "Accuracy: 0.6986\n",
            "Classification Report:\n",
            "              precision    recall  f1-score   support\n",
            "\n",
            "           0       0.72      0.66      0.69      2282\n",
            "           1       0.68      0.73      0.70      2180\n",
            "\n",
            "    accuracy                           0.70      4462\n",
            "   macro avg       0.70      0.70      0.70      4462\n",
            "weighted avg       0.70      0.70      0.70      4462\n",
            "\n",
            "==================================================\n",
            "\n"
          ]
        }
      ]
    }
  ]
}