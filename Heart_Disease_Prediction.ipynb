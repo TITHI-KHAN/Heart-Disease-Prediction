{
  "nbformat": 4,
  "nbformat_minor": 0,
  "metadata": {
    "colab": {
      "provenance": []
    },
    "kernelspec": {
      "name": "python3",
      "display_name": "Python 3"
    },
    "language_info": {
      "name": "python"
    }
  },
  "cells": [
    {
      "cell_type": "markdown",
      "source": [
        "**Step 1: Load and Preprocess the Data**"
      ],
      "metadata": {
        "id": "jPl-Swwumybs"
      }
    },
    {
      "cell_type": "code",
      "source": [
        "import pandas as pd\n",
        "\n",
        "# Load the dataset\n",
        "data = pd.read_csv('Heart Disease.csv')  # Replace 'your_dataset.csv' with the actual file path\n",
        "\n",
        "# Display basic information about the dataset\n",
        "print(data.info())\n"
      ],
      "metadata": {
        "colab": {
          "base_uri": "https://localhost:8080/"
        },
        "id": "ws44Q6xPm0Js",
        "outputId": "ef0ec1d8-db54-4417-f43b-3193f3440383"
      },
      "execution_count": 12,
      "outputs": [
        {
          "output_type": "stream",
          "name": "stdout",
          "text": [
            "<class 'pandas.core.frame.DataFrame'>\n",
            "RangeIndex: 319795 entries, 0 to 319794\n",
            "Data columns (total 18 columns):\n",
            " #   Column            Non-Null Count   Dtype  \n",
            "---  ------            --------------   -----  \n",
            " 0   HeartDisease      319795 non-null  object \n",
            " 1   BMI               319795 non-null  float64\n",
            " 2   Smoking           319795 non-null  object \n",
            " 3   AlcoholDrinking   319795 non-null  object \n",
            " 4   Stroke            319795 non-null  object \n",
            " 5   PhysicalHealth    319795 non-null  int64  \n",
            " 6   MentalHealth      319795 non-null  int64  \n",
            " 7   DiffWalking       319795 non-null  object \n",
            " 8   Sex               319795 non-null  object \n",
            " 9   AgeCategory       319795 non-null  object \n",
            " 10  Race              319795 non-null  object \n",
            " 11  Diabetic          319795 non-null  object \n",
            " 12  PhysicalActivity  319795 non-null  object \n",
            " 13  GenHealth         319795 non-null  object \n",
            " 14  SleepTime         319795 non-null  int64  \n",
            " 15  Asthma            319795 non-null  object \n",
            " 16  KidneyDisease     319795 non-null  object \n",
            " 17  SkinCancer        319795 non-null  object \n",
            "dtypes: float64(1), int64(3), object(14)\n",
            "memory usage: 43.9+ MB\n",
            "None\n"
          ]
        }
      ]
    },
    {
      "cell_type": "markdown",
      "source": [
        "**Step 2: Data Cleaning and Transformation**"
      ],
      "metadata": {
        "id": "DDvdfA5mmx1m"
      }
    },
    {
      "cell_type": "code",
      "source": [
        "from sklearn.preprocessing import LabelEncoder\n",
        "\n",
        "# Convert categorical variables to numerical using label encoding\n",
        "label_encoder = LabelEncoder()\n",
        "\n",
        "categorical_columns = ['Smoking', 'AlcoholDrinking', 'Stroke', 'DiffWalking', 'Diabetic', 'PhysicalActivity', 'GenHealth', 'Asthma', 'KidneyDisease', 'SkinCancer']\n",
        "for col in categorical_columns:\n",
        "    data[col] = label_encoder.fit_transform(data[col])\n",
        "\n",
        "# Convert categorical variables to numerical using one-hot encoding\n",
        "data = pd.get_dummies(data, columns=['Sex', 'AgeCategory', 'Race'], drop_first=True)\n",
        "\n",
        "# Convert 'HeartDisease' column to binary (1: Yes, 0: No)\n",
        "data['HeartDisease'] = data['HeartDisease'].apply(lambda x: 1 if x == 'Yes' else 0)\n",
        "\n",
        "# Check for missing values and handle them if necessary\n",
        "print(data.isnull().sum())\n",
        "\n",
        "# Normalize numerical features\n",
        "from sklearn.preprocessing import StandardScaler\n",
        "scaler = StandardScaler()\n",
        "numerical_columns = ['BMI', 'PhysicalHealth', 'MentalHealth', 'SleepTime']\n",
        "data[numerical_columns] = scaler.fit_transform(data[numerical_columns])\n"
      ],
      "metadata": {
        "colab": {
          "base_uri": "https://localhost:8080/"
        },
        "id": "tn9dg0y_m4uM",
        "outputId": "c384a7b2-7e1c-47a6-dc05-eb47a8e9e941"
      },
      "execution_count": 13,
      "outputs": [
        {
          "output_type": "stream",
          "name": "stdout",
          "text": [
            "HeartDisease               0\n",
            "BMI                        0\n",
            "Smoking                    0\n",
            "AlcoholDrinking            0\n",
            "Stroke                     0\n",
            "PhysicalHealth             0\n",
            "MentalHealth               0\n",
            "DiffWalking                0\n",
            "Diabetic                   0\n",
            "PhysicalActivity           0\n",
            "GenHealth                  0\n",
            "SleepTime                  0\n",
            "Asthma                     0\n",
            "KidneyDisease              0\n",
            "SkinCancer                 0\n",
            "Sex_Male                   0\n",
            "AgeCategory_25-29          0\n",
            "AgeCategory_30-34          0\n",
            "AgeCategory_35-39          0\n",
            "AgeCategory_40-44          0\n",
            "AgeCategory_45-49          0\n",
            "AgeCategory_50-54          0\n",
            "AgeCategory_55-59          0\n",
            "AgeCategory_60-64          0\n",
            "AgeCategory_65-69          0\n",
            "AgeCategory_70-74          0\n",
            "AgeCategory_75-79          0\n",
            "AgeCategory_80 or older    0\n",
            "Race_Asian                 0\n",
            "Race_Black                 0\n",
            "Race_Hispanic              0\n",
            "Race_Other                 0\n",
            "Race_White                 0\n",
            "dtype: int64\n"
          ]
        }
      ]
    },
    {
      "cell_type": "markdown",
      "source": [
        "**Step 3: Balance the Classes (Fix Class Imbalance)**"
      ],
      "metadata": {
        "id": "WWsTxCm6m6Uj"
      }
    },
    {
      "cell_type": "code",
      "source": [
        "from imblearn.under_sampling import RandomUnderSampler\n",
        "\n",
        "# Separate features and target variable\n",
        "X = data.drop(columns=['HeartDisease'])\n",
        "y = data['HeartDisease']\n",
        "\n",
        "# Apply random undersampling to balance the classes\n",
        "rus = RandomUnderSampler(random_state=42)\n",
        "X_resampled, y_resampled = rus.fit_resample(X, y)\n"
      ],
      "metadata": {
        "id": "Pd-EFC0Xm72E"
      },
      "execution_count": 14,
      "outputs": []
    },
    {
      "cell_type": "markdown",
      "source": [
        "**Step 4: Feature Importance Analysis using Random Forest**"
      ],
      "metadata": {
        "id": "pTohSOsem9Uc"
      }
    },
    {
      "cell_type": "code",
      "source": [
        "from sklearn.ensemble import RandomForestClassifier\n",
        "import matplotlib.pyplot as plt\n",
        "\n",
        "# Train a Random Forest classifier\n",
        "rf_classifier = RandomForestClassifier(random_state=42)\n",
        "rf_classifier.fit(X_resampled, y_resampled)\n",
        "\n",
        "# Feature importances\n",
        "feature_importances = pd.Series(rf_classifier.feature_importances_, index=X.columns)\n",
        "\n",
        "# Plot feature importances\n",
        "plt.figure(figsize=(10, 6))\n",
        "feature_importances.sort_values(ascending=False).plot(kind='bar')\n",
        "plt.title('Feature Importances')\n",
        "plt.show()\n"
      ],
      "metadata": {
        "colab": {
          "base_uri": "https://localhost:8080/",
          "height": 704
        },
        "id": "VaM121etnAfG",
        "outputId": "a8cf727b-e888-4425-c14d-a17c61618a8b"
      },
      "execution_count": 15,
      "outputs": [
        {
          "output_type": "display_data",
          "data": {
            "text/plain": [
              "<Figure size 1000x600 with 1 Axes>"
            ],
            "image/png": "[encoded data removed]"
          },
          "metadata": {}
        }
      ]
    },
    {
      "cell_type": "code",
      "source": [
        "# Train a Random Forest classifier\n",
        "rf_classifier = RandomForestClassifier(random_state=42)\n",
        "rf_classifier.fit(X_resampled, y_resampled)\n",
        "\n",
        "# Get feature importances\n",
        "feature_importances = rf_classifier.feature_importances_\n",
        "\n",
        "# Display feature importances for each feature\n",
        "for feature_name, importance in zip(X.columns, feature_importances):\n",
        "    print(f\"{feature_name}: {importance}\")\n"
      ],
      "metadata": {
        "colab": {
          "base_uri": "https://localhost:8080/"
        },
        "id": "youi_mgun6V0",
        "outputId": "2e33dce8-d41c-4241-857d-42a0e4743795"
      },
      "execution_count": 16,
      "outputs": [
        {
          "output_type": "stream",
          "name": "stdout",
          "text": [
            "BMI: 0.24998687657774185\n",
            "Smoking: 0.02580079369880715\n",
            "AlcoholDrinking: 0.010115646820653376\n",
            "Stroke: 0.03172207341610943\n",
            "PhysicalHealth: 0.07062566568725773\n",
            "MentalHealth: 0.05703398662716758\n",
            "DiffWalking: 0.045803668267112796\n",
            "Diabetic: 0.04578144136554184\n",
            "PhysicalActivity: 0.021788629648701555\n",
            "GenHealth: 0.08258191623639496\n",
            "SleepTime: 0.08835591082241832\n",
            "Asthma: 0.017983394885969166\n",
            "KidneyDisease: 0.01569603185583427\n",
            "SkinCancer: 0.016455363436270805\n",
            "Sex_Male: 0.027386041440083116\n",
            "AgeCategory_25-29: 0.008261480150986107\n",
            "AgeCategory_30-34: 0.008481492140481467\n",
            "AgeCategory_35-39: 0.009492024831500849\n",
            "AgeCategory_40-44: 0.008019195675318277\n",
            "AgeCategory_45-49: 0.007288708173907364\n",
            "AgeCategory_50-54: 0.00765167145469494\n",
            "AgeCategory_55-59: 0.00899632768447815\n",
            "AgeCategory_60-64: 0.011764394507596053\n",
            "AgeCategory_65-69: 0.014496384222314803\n",
            "AgeCategory_70-74: 0.020000565514930204\n",
            "AgeCategory_75-79: 0.020701378315599105\n",
            "AgeCategory_80 or older: 0.03198227318507571\n",
            "Race_Asian: 0.0029420973449941147\n",
            "Race_Black: 0.007653119309429713\n",
            "Race_Hispanic: 0.007357732059909541\n",
            "Race_Other: 0.005061546938013848\n",
            "Race_White: 0.01273216770470568\n"
          ]
        }
      ]
    },
    {
      "cell_type": "markdown",
      "source": [
        "**FEATURE ANALYSIS:**\n",
        "\n",
        "1.   BMI\n",
        "2.   PhysicalHealth\n",
        "3.   GenHealth\n",
        "4.   SleepTime\n",
        "5.   MentalHealth\n",
        "6.   AgeCategory_80 or older\n",
        "7.   DiffWalking\n",
        "8.   AgeCategory_70-74\n",
        "9.   AgeCategory_75-79\n",
        "10.   AgeCategory_60-64\n",
        "11.   Stroke\n",
        "12.   Diabetic\n",
        "\n",
        "\n",
        "These features have relatively higher importance values and are likely to have a more significant effect on the likelihood of heart disease based on the Random Forest analysis.\n"
      ],
      "metadata": {
        "id": "HkiPw0-LoJzN"
      }
    },
    {
      "cell_type": "markdown",
      "source": [
        "**Logistic Regression, SVM Classifier, K Neighbors Classifier, XGB Classifier, AdaBoost Classifier, Random Forest Classifier, Decision Tree Classifier, MLP Classifier**"
      ],
      "metadata": {
        "id": "QdK0tJU7pSEn"
      }
    },
    {
      "cell_type": "code",
      "source": [
        "import warnings\n",
        "warnings.filterwarnings(\"ignore\")\n",
        "\n",
        "from sklearn.model_selection import train_test_split\n",
        "from sklearn.linear_model import LogisticRegression\n",
        "from sklearn.svm import SVC\n",
        "from sklearn.neighbors import KNeighborsClassifier\n",
        "from xgboost import XGBClassifier\n",
        "from sklearn.ensemble import AdaBoostClassifier, RandomForestClassifier\n",
        "from sklearn.tree import DecisionTreeClassifier\n",
        "from sklearn.neural_network import MLPClassifier\n",
        "from sklearn.metrics import classification_report\n",
        "\n",
        "# Split the data into training and testing sets\n",
        "X_train, X_test, y_train, y_test = train_test_split(X_resampled, y_resampled, test_size=0.2, random_state=42)\n",
        "\n",
        "# Initialize classifiers\n",
        "classifiers = {\n",
        "    'Logistic Regression': LogisticRegression(),\n",
        "    'SVM': SVC(),\n",
        "    'k-Nearest Neighbors': KNeighborsClassifier(),\n",
        "    'XGBoost': XGBClassifier(),\n",
        "    'AdaBoost': AdaBoostClassifier(),\n",
        "    'Decision Tree': DecisionTreeClassifier(),\n",
        "    'Random Forest': RandomForestClassifier(),\n",
        "    'ANN': MLPClassifier(hidden_layer_sizes=(64, 32), max_iter=1000, random_state=42)\n",
        "}\n",
        "\n",
        "# Train and evaluate each classifier\n",
        "for name, clf in classifiers.items():\n",
        "    clf.fit(X_train, y_train)\n",
        "    y_pred = clf.predict(X_test)\n",
        "\n",
        "    accuracy = clf.score(X_test, y_test)\n",
        "    report = classification_report(y_test, y_pred)\n",
        "\n",
        "    print(f\"Classifier: {name}\")\n",
        "    print(f\"Accuracy: {accuracy:.4f}\")\n",
        "    print(f\"Classification Report:\\n{report}\\n{'='*50}\\n\") #0: No Heart Disease, 1: Heart Disease\n"
      ],
      "metadata": {
        "colab": {
          "base_uri": "https://localhost:8080/"
        },
        "id": "9O_keLzzpSNf",
        "outputId": "af6a7c44-a7f7-4593-d77f-61eba9615852"
      },
      "execution_count": 11,
      "outputs": [
        {
          "output_type": "stream",
          "name": "stdout",
          "text": [
            "Classifier: Logistic Regression\n",
            "Accuracy: 0.7542\n",
            "Classification Report:\n",
            "              precision    recall  f1-score   support\n",
            "\n",
            "           0       0.76      0.74      0.75      5434\n",
            "           1       0.75      0.77      0.76      5516\n",
            "\n",
            "    accuracy                           0.75     10950\n",
            "   macro avg       0.75      0.75      0.75     10950\n",
            "weighted avg       0.75      0.75      0.75     10950\n",
            "\n",
            "==================================================\n",
            "\n",
            "Classifier: SVM\n",
            "Accuracy: 0.7602\n",
            "Classification Report:\n",
            "              precision    recall  f1-score   support\n",
            "\n",
            "           0       0.79      0.70      0.74      5434\n",
            "           1       0.74      0.82      0.77      5516\n",
            "\n",
            "    accuracy                           0.76     10950\n",
            "   macro avg       0.76      0.76      0.76     10950\n",
            "weighted avg       0.76      0.76      0.76     10950\n",
            "\n",
            "==================================================\n",
            "\n",
            "Classifier: k-Nearest Neighbors\n",
            "Accuracy: 0.7273\n",
            "Classification Report:\n",
            "              precision    recall  f1-score   support\n",
            "\n",
            "           0       0.72      0.73      0.73      5434\n",
            "           1       0.73      0.73      0.73      5516\n",
            "\n",
            "    accuracy                           0.73     10950\n",
            "   macro avg       0.73      0.73      0.73     10950\n",
            "weighted avg       0.73      0.73      0.73     10950\n",
            "\n",
            "==================================================\n",
            "\n",
            "Classifier: XGBoost\n",
            "Accuracy: 0.7609\n",
            "Classification Report:\n",
            "              precision    recall  f1-score   support\n",
            "\n",
            "           0       0.77      0.73      0.75      5434\n",
            "           1       0.75      0.79      0.77      5516\n",
            "\n",
            "    accuracy                           0.76     10950\n",
            "   macro avg       0.76      0.76      0.76     10950\n",
            "weighted avg       0.76      0.76      0.76     10950\n",
            "\n",
            "==================================================\n",
            "\n",
            "Classifier: AdaBoost\n",
            "Accuracy: 0.7618\n",
            "Classification Report:\n",
            "              precision    recall  f1-score   support\n",
            "\n",
            "           0       0.76      0.76      0.76      5434\n",
            "           1       0.76      0.77      0.76      5516\n",
            "\n",
            "    accuracy                           0.76     10950\n",
            "   macro avg       0.76      0.76      0.76     10950\n",
            "weighted avg       0.76      0.76      0.76     10950\n",
            "\n",
            "==================================================\n",
            "\n",
            "Classifier: Decision Tree\n",
            "Accuracy: 0.6625\n",
            "Classification Report:\n",
            "              precision    recall  f1-score   support\n",
            "\n",
            "           0       0.65      0.68      0.67      5434\n",
            "           1       0.67      0.65      0.66      5516\n",
            "\n",
            "    accuracy                           0.66     10950\n",
            "   macro avg       0.66      0.66      0.66     10950\n",
            "weighted avg       0.66      0.66      0.66     10950\n",
            "\n",
            "==================================================\n",
            "\n",
            "Classifier: Random Forest\n",
            "Accuracy: 0.7440\n",
            "Classification Report:\n",
            "              precision    recall  f1-score   support\n",
            "\n",
            "           0       0.75      0.72      0.74      5434\n",
            "           1       0.74      0.77      0.75      5516\n",
            "\n",
            "    accuracy                           0.74     10950\n",
            "   macro avg       0.74      0.74      0.74     10950\n",
            "weighted avg       0.74      0.74      0.74     10950\n",
            "\n",
            "==================================================\n",
            "\n",
            "Classifier: ANN\n",
            "Accuracy: 0.7390\n",
            "Classification Report:\n",
            "              precision    recall  f1-score   support\n",
            "\n",
            "           0       0.76      0.69      0.72      5434\n",
            "           1       0.72      0.79      0.75      5516\n",
            "\n",
            "    accuracy                           0.74     10950\n",
            "   macro avg       0.74      0.74      0.74     10950\n",
            "weighted avg       0.74      0.74      0.74     10950\n",
            "\n",
            "==================================================\n",
            "\n"
          ]
        }
      ]
    }
  ]
}